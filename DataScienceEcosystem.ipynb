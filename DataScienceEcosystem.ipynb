{
 "cells": [
  {
   "cell_type": "markdown",
   "id": "c29a6917-1e26-4448-8399-16f3c1fa5dab",
   "metadata": {},
   "source": [
    "# Data Science Tools and Ecosystem"
   ]
  },
  {
   "cell_type": "markdown",
   "id": "daeb0c36-5111-4e61-97ed-0176a51418cf",
   "metadata": {},
   "source": [
    "## In this notebook, Data Science Tools and Ecosystem are summarized .. "
   ]
  },
  {
   "cell_type": "markdown",
   "id": "e22811b8-5c43-4a5c-be9d-c96fa4bf0827",
   "metadata": {},
   "source": [
    "### Some of the popular languages that Data Scientists use are:\n",
    "1. Python\n",
    "2. C++\n",
    "3. R"
   ]
  },
  {
   "cell_type": "markdown",
   "id": "80ddd580-8ebf-420b-881f-d32c3c717a36",
   "metadata": {},
   "source": [
    "### Some of the commonly used libraries used by Data Scientists include:\n",
    "1. Pandas\n",
    "2. NumPy\n",
    "3. Seaborn"
   ]
  },
  {
   "cell_type": "markdown",
   "id": "4200fcd9-520e-4148-8d86-9ae7ec9bf25a",
   "metadata": {},
   "source": [
    "| Data Science Tools |\n",
    "|--------------------|\n",
    "| Rstudio |\n",
    "| Jupyter |\n",
    "| Anaconda |"
   ]
  },
  {
   "cell_type": "markdown",
   "id": "faec5364-4703-4d0b-8d4e-5964c9aebda7",
   "metadata": {},
   "source": [
    "## Below are a few examples of evaluating arithmetic expressions in Python"
   ]
  },
  {
   "cell_type": "code",
   "execution_count": 1,
   "id": "b19b0327-100a-4dd9-937f-62f71934e5c9",
   "metadata": {
    "tags": []
   },
   "outputs": [
    {
     "data": {
      "text/plain": [
       "17"
      ]
     },
     "execution_count": 1,
     "metadata": {},
     "output_type": "execute_result"
    }
   ],
   "source": [
    "# This a simple arithmetic expression to mutiply then add integers\n",
    "\n",
    "(3*4)+5"
   ]
  },
  {
   "cell_type": "code",
   "execution_count": 2,
   "id": "c9d0cf10-4901-40c5-a732-572745587107",
   "metadata": {
    "tags": []
   },
   "outputs": [
    {
     "data": {
      "text/plain": [
       "3.3333333333333335"
      ]
     },
     "execution_count": 2,
     "metadata": {},
     "output_type": "execute_result"
    }
   ],
   "source": [
    "# This will convert 200 minutes to hours by diving by 60\n",
    "200/60"
   ]
  },
  {
   "cell_type": "markdown",
   "id": "400d42e5-dee2-4f83-89d9-aaa6506acf5f",
   "metadata": {
    "tags": []
   },
   "source": [
    "## Objectives:\n",
    " - List Pupolar Languages for Data Science\n",
    " - List commonly used libraries used by Data Scientists\n",
    " - List Data Science Tools\n",
    " - Showing Few Examples of Evaluating Arithmetic Expressions in Python "
   ]
  },
  {
   "cell_type": "markdown",
   "id": "a30e188e-878f-4dbe-883a-86f61bc8733e",
   "metadata": {
    "tags": []
   },
   "source": [
    "## Author \n",
    "Sarah "
   ]
  },
  {
   "cell_type": "code",
   "execution_count": null,
   "id": "56c6186b-5259-43ab-bea2-993d88013f4c",
   "metadata": {},
   "outputs": [],
   "source": []
  }
 ],
 "metadata": {
  "kernelspec": {
   "display_name": "Python",
   "language": "python",
   "name": "conda-env-python-py"
  },
  "language_info": {
   "codemirror_mode": {
    "name": "ipython",
    "version": 3
   },
   "file_extension": ".py",
   "mimetype": "text/x-python",
   "name": "python",
   "nbconvert_exporter": "python",
   "pygments_lexer": "ipython3",
   "version": "3.7.12"
  }
 },
 "nbformat": 4,
 "nbformat_minor": 5
}
